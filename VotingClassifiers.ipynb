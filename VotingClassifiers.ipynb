{
 "cells": [
  {
   "cell_type": "code",
   "id": "initial_id",
   "metadata": {
    "collapsed": true,
    "ExecuteTime": {
     "end_time": "2024-12-06T15:39:31.881531Z",
     "start_time": "2024-12-06T15:39:31.855473Z"
    }
   },
   "source": [
    "from sklearn.datasets import fetch_openml\n",
    "import numpy as np\n",
    "import matplotlib.pyplot as plt\n",
    "import matplotlib as mpl\n",
    "from sklearn.model_selection import train_test_split, cross_val_score, GridSearchCV\n",
    "from sklearn.ensemble import RandomForestClassifier, VotingClassifier, BaggingClassifier\n",
    "from sklearn.preprocessing import StandardScaler\n",
    "from sklearn.tree import DecisionTreeClassifier\n",
    "from sklearn.svm import SVC\n",
    "from sklearn.metrics import accuracy_score\n",
    "from sklearnex import patch_sklearn\n",
    "from sklearn.linear_model import SGDClassifier"
   ],
   "outputs": [],
   "execution_count": 23
  },
  {
   "metadata": {
    "ExecuteTime": {
     "end_time": "2024-12-06T14:43:15.126947Z",
     "start_time": "2024-12-06T14:43:11.763146Z"
    }
   },
   "cell_type": "code",
   "source": [
    "mnist = fetch_openml('mnist_784', version=1)\n",
    "mnist.keys()\n",
    "patch_sklearn()"
   ],
   "id": "724823ff93f6c996",
   "outputs": [
    {
     "name": "stderr",
     "output_type": "stream",
     "text": [
      "Intel(R) Extension for Scikit-learn* enabled (https://github.com/intel/scikit-learn-intelex)\n"
     ]
    }
   ],
   "execution_count": 5
  },
  {
   "metadata": {
    "ExecuteTime": {
     "end_time": "2024-12-06T14:43:15.701687Z",
     "start_time": "2024-12-06T14:43:15.684690Z"
    }
   },
   "cell_type": "code",
   "source": "mnist.DESCR",
   "id": "91cd97ea7583bb4f",
   "outputs": [
    {
     "data": {
      "text/plain": [
       "\"**Author**: Yann LeCun, Corinna Cortes, Christopher J.C. Burges  \\n**Source**: [MNIST Website](http://yann.lecun.com/exdb/mnist/) - Date unknown  \\n**Please cite**:  \\n\\nThe MNIST database of handwritten digits with 784 features, raw data available at: http://yann.lecun.com/exdb/mnist/. It can be split in a training set of the first 60,000 examples, and a test set of 10,000 examples  \\n\\nIt is a subset of a larger set available from NIST. The digits have been size-normalized and centered in a fixed-size image. It is a good database for people who want to try learning techniques and pattern recognition methods on real-world data while spending minimal efforts on preprocessing and formatting. The original black and white (bilevel) images from NIST were size normalized to fit in a 20x20 pixel box while preserving their aspect ratio. The resulting images contain grey levels as a result of the anti-aliasing technique used by the normalization algorithm. the images were centered in a 28x28 image by computing the center of mass of the pixels, and translating the image so as to position this point at the center of the 28x28 field.  \\n\\nWith some classification methods (particularly template-based methods, such as SVM and K-nearest neighbors), the error rate improves when the digits are centered by bounding box rather than center of mass. If you do this kind of pre-processing, you should report it in your publications. The MNIST database was constructed from NIST's NIST originally designated SD-3 as their training set and SD-1 as their test set. However, SD-3 is much cleaner and easier to recognize than SD-1. The reason for this can be found on the fact that SD-3 was collected among Census Bureau employees, while SD-1 was collected among high-school students. Drawing sensible conclusions from learning experiments requires that the result be independent of the choice of training set and test among the complete set of samples. Therefore it was necessary to build a new database by mixing NIST's datasets.  \\n\\nThe MNIST training set is composed of 30,000 patterns from SD-3 and 30,000 patterns from SD-1. Our test set was composed of 5,000 patterns from SD-3 and 5,000 patterns from SD-1. The 60,000 pattern training set contained examples from approximately 250 writers. We made sure that the sets of writers of the training set and test set were disjoint. SD-1 contains 58,527 digit images written by 500 different writers. In contrast to SD-3, where blocks of data from each writer appeared in sequence, the data in SD-1 is scrambled. Writer identities for SD-1 is available and we used this information to unscramble the writers. We then split SD-1 in two: characters written by the first 250 writers went into our new training set. The remaining 250 writers were placed in our test set. Thus we had two sets with nearly 30,000 examples each. The new training set was completed with enough examples from SD-3, starting at pattern # 0, to make a full set of 60,000 training patterns. Similarly, the new test set was completed with SD-3 examples starting at pattern # 35,000 to make a full set with 60,000 test patterns. Only a subset of 10,000 test images (5,000 from SD-1 and 5,000 from SD-3) is available on this site. The full 60,000 sample training set is available.\\n\\nDownloaded from openml.org.\""
      ]
     },
     "execution_count": 6,
     "metadata": {},
     "output_type": "execute_result"
    }
   ],
   "execution_count": 6
  },
  {
   "metadata": {
    "ExecuteTime": {
     "end_time": "2024-12-06T14:43:16.839763Z",
     "start_time": "2024-12-06T14:43:16.826184Z"
    }
   },
   "cell_type": "code",
   "source": "mnist.data.shape",
   "id": "8a20c1d991e56246",
   "outputs": [
    {
     "data": {
      "text/plain": [
       "(70000, 784)"
      ]
     },
     "execution_count": 7,
     "metadata": {},
     "output_type": "execute_result"
    }
   ],
   "execution_count": 7
  },
  {
   "metadata": {
    "ExecuteTime": {
     "end_time": "2024-12-06T14:43:18.124085Z",
     "start_time": "2024-12-06T14:43:18.118058Z"
    }
   },
   "cell_type": "code",
   "source": "x,y = mnist[\"data\"], mnist[\"target\"]",
   "id": "e035957d54d7fac5",
   "outputs": [],
   "execution_count": 8
  },
  {
   "metadata": {
    "ExecuteTime": {
     "end_time": "2024-12-06T14:43:19.028932Z",
     "start_time": "2024-12-06T14:43:19.016954Z"
    }
   },
   "cell_type": "code",
   "source": "y = y.astype(int)",
   "id": "faae1d04e2721f6",
   "outputs": [],
   "execution_count": 9
  },
  {
   "metadata": {
    "ExecuteTime": {
     "end_time": "2024-12-06T14:43:21.153578Z",
     "start_time": "2024-12-06T14:43:20.145116Z"
    }
   },
   "cell_type": "code",
   "source": [
    "x_train_val, x_test, y_train_val, y_test = train_test_split(x, y, test_size=10000, random_state=42, stratify=y)\n",
    "x_train, x_val, y_train, y_val = train_test_split(x_train_val, y_train_val, test_size=10000, random_state=42, stratify=y_train_val)"
   ],
   "id": "3b2003c5c65902b0",
   "outputs": [],
   "execution_count": 10
  },
  {
   "metadata": {
    "ExecuteTime": {
     "end_time": "2024-12-06T14:43:22.881597Z",
     "start_time": "2024-12-06T14:43:21.728908Z"
    }
   },
   "cell_type": "code",
   "source": [
    "# Applying Standard Scaler\n",
    "scaler = StandardScaler()\n",
    "x_train = scaler.fit_transform(x_train)\n",
    "x_val = scaler.transform(x_val)\n",
    "x_test = scaler.transform(x_test)"
   ],
   "id": "c46ba75b3b08bedd",
   "outputs": [],
   "execution_count": 11
  },
  {
   "metadata": {
    "ExecuteTime": {
     "end_time": "2024-12-06T15:35:24.737069Z",
     "start_time": "2024-12-06T15:35:22.025011Z"
    }
   },
   "cell_type": "code",
   "source": [
    "# Random Forest algorithm\n",
    "random_forest = RandomForestClassifier(n_estimators=30, random_state=42)\n",
    "random_forest.fit(x_train, y_train)\n",
    "\n",
    "y_pred_rf_for_val_set = random_forest.predict(x_val)\n",
    "print(accuracy_score(y_val, y_pred_rf_for_val_set))"
   ],
   "id": "aff3b6a6b25e6279",
   "outputs": [
    {
     "name": "stdout",
     "output_type": "stream",
     "text": [
      "0.9649\n"
     ]
    }
   ],
   "execution_count": 17
  },
  {
   "metadata": {
    "ExecuteTime": {
     "end_time": "2024-12-06T14:53:33.720579Z",
     "start_time": "2024-12-06T14:43:26.641617Z"
    }
   },
   "cell_type": "code",
   "source": [
    "# Decision Tree algorithm with GridSearchCV(We will find the best hyperparameters)\n",
    "param_grid = {\n",
    "    'criterion': ['gini', 'entropy'],\n",
    "    'max_depth': [5, 10, 20, None],\n",
    "    'min_samples_split': [2, 5, 10],\n",
    "    'min_samples_leaf': [1, 2, 5]\n",
    "}\n",
    "decision_tree = DecisionTreeClassifier(random_state=42)\n",
    "\n",
    "grid_search = GridSearchCV(decision_tree, param_grid, cv=5, scoring='accuracy', n_jobs=-1)\n",
    "grid_search.fit(x_train, y_train)\n",
    "\n",
    "print(\"En iyi parametreler : \", grid_search.best_params_)\n",
    "print(\"En iyi cross-validation doğruluk oranı : \", grid_search.best_score_)\n",
    "\n",
    "best_decision_tree_model = grid_search.best_estimator_\n",
    "print(\"Validation Set Doğruluğu:\", best_decision_tree_model.score(x_val, y_val))"
   ],
   "id": "a16ed5d345e550bf",
   "outputs": [
    {
     "name": "stdout",
     "output_type": "stream",
     "text": [
      "En iyi parametreler :  {'criterion': 'entropy', 'max_depth': 20, 'min_samples_leaf': 5, 'min_samples_split': 2}\n",
      "En iyi cross-validation doğruluk oranı :  0.87094\n",
      "Validation Set Doğruluğu: 0.8776\n"
     ]
    }
   ],
   "execution_count": 12
  },
  {
   "metadata": {
    "ExecuteTime": {
     "end_time": "2024-12-06T15:29:38.348787Z",
     "start_time": "2024-12-06T15:27:27.253810Z"
    }
   },
   "cell_type": "code",
   "source": [
    "# SVM algorithm\n",
    "SVM = SVC(kernel='linear', probability=True)\n",
    "SVM.fit(x_train, y_train)\n",
    "\n",
    "y_pred_svm_for_val_set = SVM.predict(x_val)\n",
    "print(f\"Accuracy score of the SVM with validation set is : {accuracy_score(y_val, y_pred_svm_for_val_set)}\")"
   ],
   "id": "39284cb0fd3f2e5f",
   "outputs": [
    {
     "name": "stdout",
     "output_type": "stream",
     "text": [
      "Accuracy score of the SVM with validation set is : 0.9263\n"
     ]
    }
   ],
   "execution_count": 15
  },
  {
   "metadata": {
    "ExecuteTime": {
     "end_time": "2024-12-06T16:26:21.469951Z",
     "start_time": "2024-12-06T16:26:21.449265Z"
    }
   },
   "cell_type": "code",
   "source": [
    "# Voting Classifiers with hard and soft voting\n",
    "def find_voting_classifier(votingType, x_test, y_test):\n",
    "    voting_classifier = VotingClassifier(\n",
    "            estimators=[('rf', random_forest), ('dt', best_decision_tree_model), ('svm', SVM)],\n",
    "            voting=votingType\n",
    "        )\n",
    "    voting_model = voting_classifier.fit(x_train, y_train)\n",
    "    voting_prediction = voting_model.predict(x_test)\n",
    "    accuracy = accuracy_score(y_test, voting_prediction)\n",
    "    print(f\"Accuracy score of the {votingType} voting classifier : {accuracy}\")"
   ],
   "id": "740ae982364022ec",
   "outputs": [],
   "execution_count": 39
  },
  {
   "metadata": {
    "ExecuteTime": {
     "end_time": "2024-12-06T16:32:50.606898Z",
     "start_time": "2024-12-06T16:29:55.498597Z"
    }
   },
   "cell_type": "code",
   "source": [
    "print(\"For validation set,\")\n",
    "votingTypes = {\"hard\", \"soft\"}\n",
    "for votingType in votingTypes:\n",
    "    find_voting_classifier(votingType, x_val, y_val)"
   ],
   "id": "9bd5286cdd409b3d",
   "outputs": [
    {
     "name": "stdout",
     "output_type": "stream",
     "text": [
      "For validation set,\n",
      "Accuracy score of the hard voting classifier : 0.9569\n",
      "Accuracy score of the soft voting classifier : 0.9539\n"
     ]
    }
   ],
   "execution_count": 41
  },
  {
   "metadata": {
    "ExecuteTime": {
     "end_time": "2024-12-06T16:46:15.809683Z",
     "start_time": "2024-12-06T16:43:19.901908Z"
    }
   },
   "cell_type": "code",
   "source": [
    "# The results are better than the individual models\n",
    "print(\"For test set\")\n",
    "\n",
    "models = {\n",
    "    \"Random Forest\": random_forest,\n",
    "    \"Decision Tree\": best_decision_tree_model,\n",
    "    \"SVM\": SVM\n",
    "}\n",
    "#Normal Learning\n",
    "for name, model in models.items():\n",
    "    prediction = model.predict(x_test)\n",
    "    accuracy = accuracy_score(y_test, prediction)\n",
    "    print(f\"Accuracy score of the {name} model: {accuracy}\")\n",
    " #Ensemble Learning   \n",
    "for votingType in votingTypes:\n",
    "    find_voting_classifier(votingType, x_test, y_test)\n"
   ],
   "id": "b61fa0d2c4a3518c",
   "outputs": [
    {
     "name": "stdout",
     "output_type": "stream",
     "text": [
      "For test set\n",
      "Accuracy score of the Random Forest model: 0.9615\n",
      "Accuracy score of the Decision Tree model: 0.8763\n",
      "Accuracy score of the SVM model: 0.9226\n",
      "Accuracy score of the hard voting classifier : 0.9523\n",
      "Accuracy score of the soft voting classifier : 0.9525\n"
     ]
    }
   ],
   "execution_count": 43
  }
 ],
 "metadata": {
  "kernelspec": {
   "display_name": "Python 3",
   "language": "python",
   "name": "python3"
  },
  "language_info": {
   "codemirror_mode": {
    "name": "ipython",
    "version": 2
   },
   "file_extension": ".py",
   "mimetype": "text/x-python",
   "name": "python",
   "nbconvert_exporter": "python",
   "pygments_lexer": "ipython2",
   "version": "2.7.6"
  }
 },
 "nbformat": 4,
 "nbformat_minor": 5
}
